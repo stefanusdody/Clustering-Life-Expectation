{
 "cells": [
  {
   "cell_type": "markdown",
   "id": "dc7fd898",
   "metadata": {},
   "source": [
    "# Perkenalan"
   ]
  },
  {
   "cell_type": "markdown",
   "id": "df4e2ad9",
   "metadata": {},
   "source": [
    "* Nama  : Stepanus Dody Kristianto Wicaksono\n",
    "* Batch : 001"
   ]
  },
  {
   "cell_type": "markdown",
   "id": "94f2e1e1",
   "metadata": {},
   "source": [
    "# Live Code 3"
   ]
  },
  {
   "cell_type": "markdown",
   "id": "f3250e01",
   "metadata": {},
   "source": [
    "#### Dataset\n",
    "\n",
    "dataset berisi mengenai ranking expetasi hidup suatu negara \n",
    "\n",
    "#### sumber dataset\n",
    "\n",
    "data asli berasal dari data kaggle : https://www.kaggle.com/amansaxena/lifeexpectancy\n",
    "        \n",
    "#### objective\n",
    "\n",
    "membuat cluster mengenai ranking expetasi hidup suatu negara "
   ]
  },
  {
   "cell_type": "markdown",
   "id": "0d8d0aed",
   "metadata": {},
   "source": [
    "# Import Pustaka"
   ]
  },
  {
   "cell_type": "code",
   "execution_count": 35,
   "id": "576eb93f",
   "metadata": {},
   "outputs": [],
   "source": [
    "import pandas as pd\n",
    "import numpy as np\n",
    "import matplotlib.pyplot as plt\n",
    "import seaborn as sns\n",
    "\n",
    "from sklearn.preprocessing import StandardScaler\n",
    "from sklearn.decomposition import PCA\n",
    "from sklearn.cluster import KMeans\n",
    "\n",
    "from sklearn.metrics.pairwise import cosine_similarity\n",
    "\n",
    "%matplotlib inline"
   ]
  },
  {
   "cell_type": "markdown",
   "id": "b1389601",
   "metadata": {},
   "source": [
    "# Data Loading"
   ]
  },
  {
   "cell_type": "code",
   "execution_count": 2,
   "id": "49637f96",
   "metadata": {},
   "outputs": [],
   "source": [
    "data = pd.read_csv('Life_expectancy_dataset.csv', encoding=\"ISO-8859-1\")"
   ]
  },
  {
   "cell_type": "markdown",
   "id": "4fc27431",
   "metadata": {},
   "source": [
    "#### melihat data teratas"
   ]
  },
  {
   "cell_type": "code",
   "execution_count": 3,
   "id": "878549d9",
   "metadata": {},
   "outputs": [
    {
     "data": {
      "text/html": [
       "<div>\n",
       "<style scoped>\n",
       "    .dataframe tbody tr th:only-of-type {\n",
       "        vertical-align: middle;\n",
       "    }\n",
       "\n",
       "    .dataframe tbody tr th {\n",
       "        vertical-align: top;\n",
       "    }\n",
       "\n",
       "    .dataframe thead th {\n",
       "        text-align: right;\n",
       "    }\n",
       "</style>\n",
       "<table border=\"1\" class=\"dataframe\">\n",
       "  <thead>\n",
       "    <tr style=\"text-align: right;\">\n",
       "      <th></th>\n",
       "      <th>Rank</th>\n",
       "      <th>Country</th>\n",
       "      <th>Overall Life</th>\n",
       "      <th>Male Life</th>\n",
       "      <th>Female Life</th>\n",
       "      <th>Continent</th>\n",
       "    </tr>\n",
       "  </thead>\n",
       "  <tbody>\n",
       "    <tr>\n",
       "      <th>0</th>\n",
       "      <td>1</td>\n",
       "      <td>Monaco</td>\n",
       "      <td>89.5</td>\n",
       "      <td>85.6</td>\n",
       "      <td>93.5</td>\n",
       "      <td>Europe</td>\n",
       "    </tr>\n",
       "    <tr>\n",
       "      <th>1</th>\n",
       "      <td>2</td>\n",
       "      <td>Japan</td>\n",
       "      <td>85.0</td>\n",
       "      <td>81.7</td>\n",
       "      <td>88.5</td>\n",
       "      <td>Asia</td>\n",
       "    </tr>\n",
       "    <tr>\n",
       "      <th>2</th>\n",
       "      <td>3</td>\n",
       "      <td>Singapore</td>\n",
       "      <td>85.0</td>\n",
       "      <td>82.3</td>\n",
       "      <td>87.8</td>\n",
       "      <td>Asia</td>\n",
       "    </tr>\n",
       "    <tr>\n",
       "      <th>3</th>\n",
       "      <td>4</td>\n",
       "      <td>Macau; China</td>\n",
       "      <td>84.5</td>\n",
       "      <td>81.6</td>\n",
       "      <td>87.6</td>\n",
       "      <td>Asia</td>\n",
       "    </tr>\n",
       "    <tr>\n",
       "      <th>4</th>\n",
       "      <td>5</td>\n",
       "      <td>San Marino</td>\n",
       "      <td>83.3</td>\n",
       "      <td>80.7</td>\n",
       "      <td>86.1</td>\n",
       "      <td>Europe</td>\n",
       "    </tr>\n",
       "  </tbody>\n",
       "</table>\n",
       "</div>"
      ],
      "text/plain": [
       "   Rank       Country  Overall Life  Male Life  Female Life Continent\n",
       "0     1        Monaco          89.5       85.6         93.5    Europe\n",
       "1     2         Japan          85.0       81.7         88.5      Asia\n",
       "2     3     Singapore          85.0       82.3         87.8      Asia\n",
       "3     4  Macau; China          84.5       81.6         87.6      Asia\n",
       "4     5    San Marino          83.3       80.7         86.1    Europe"
      ]
     },
     "execution_count": 3,
     "metadata": {},
     "output_type": "execute_result"
    }
   ],
   "source": [
    "data.head()"
   ]
  },
  {
   "cell_type": "markdown",
   "id": "b1ef6907",
   "metadata": {},
   "source": [
    "#### melihat data terbawah"
   ]
  },
  {
   "cell_type": "code",
   "execution_count": 4,
   "id": "74b4d2fe",
   "metadata": {},
   "outputs": [
    {
     "data": {
      "text/html": [
       "<div>\n",
       "<style scoped>\n",
       "    .dataframe tbody tr th:only-of-type {\n",
       "        vertical-align: middle;\n",
       "    }\n",
       "\n",
       "    .dataframe tbody tr th {\n",
       "        vertical-align: top;\n",
       "    }\n",
       "\n",
       "    .dataframe thead th {\n",
       "        text-align: right;\n",
       "    }\n",
       "</style>\n",
       "<table border=\"1\" class=\"dataframe\">\n",
       "  <thead>\n",
       "    <tr style=\"text-align: right;\">\n",
       "      <th></th>\n",
       "      <th>Rank</th>\n",
       "      <th>Country</th>\n",
       "      <th>Overall Life</th>\n",
       "      <th>Male Life</th>\n",
       "      <th>Female Life</th>\n",
       "      <th>Continent</th>\n",
       "    </tr>\n",
       "  </thead>\n",
       "  <tbody>\n",
       "    <tr>\n",
       "      <th>218</th>\n",
       "      <td>219</td>\n",
       "      <td>Gabon</td>\n",
       "      <td>52.1</td>\n",
       "      <td>51.6</td>\n",
       "      <td>52.5</td>\n",
       "      <td>Africa</td>\n",
       "    </tr>\n",
       "    <tr>\n",
       "      <th>219</th>\n",
       "      <td>220</td>\n",
       "      <td>Swaziland</td>\n",
       "      <td>51.6</td>\n",
       "      <td>52.2</td>\n",
       "      <td>51.0</td>\n",
       "      <td>Africa</td>\n",
       "    </tr>\n",
       "    <tr>\n",
       "      <th>220</th>\n",
       "      <td>221</td>\n",
       "      <td>Afghanistan</td>\n",
       "      <td>51.3</td>\n",
       "      <td>49.9</td>\n",
       "      <td>52.7</td>\n",
       "      <td>Asia</td>\n",
       "    </tr>\n",
       "    <tr>\n",
       "      <th>221</th>\n",
       "      <td>222</td>\n",
       "      <td>Guinea-Bissau</td>\n",
       "      <td>50.6</td>\n",
       "      <td>48.6</td>\n",
       "      <td>52.7</td>\n",
       "      <td>Africa</td>\n",
       "    </tr>\n",
       "    <tr>\n",
       "      <th>222</th>\n",
       "      <td>223</td>\n",
       "      <td>Chad</td>\n",
       "      <td>50.2</td>\n",
       "      <td>49.0</td>\n",
       "      <td>51.3</td>\n",
       "      <td>Africa</td>\n",
       "    </tr>\n",
       "  </tbody>\n",
       "</table>\n",
       "</div>"
      ],
      "text/plain": [
       "     Rank        Country  Overall Life  Male Life  Female Life Continent\n",
       "218   219          Gabon          52.1       51.6         52.5    Africa\n",
       "219   220      Swaziland          51.6       52.2         51.0    Africa\n",
       "220   221    Afghanistan          51.3       49.9         52.7      Asia\n",
       "221   222  Guinea-Bissau          50.6       48.6         52.7    Africa\n",
       "222   223           Chad          50.2       49.0         51.3    Africa"
      ]
     },
     "execution_count": 4,
     "metadata": {},
     "output_type": "execute_result"
    }
   ],
   "source": [
    "data.tail()"
   ]
  },
  {
   "cell_type": "markdown",
   "id": "4fa98476",
   "metadata": {},
   "source": [
    "#### melihat informasi data"
   ]
  },
  {
   "cell_type": "code",
   "execution_count": 5,
   "id": "186a868c",
   "metadata": {},
   "outputs": [
    {
     "name": "stdout",
     "output_type": "stream",
     "text": [
      "<class 'pandas.core.frame.DataFrame'>\n",
      "RangeIndex: 223 entries, 0 to 222\n",
      "Data columns (total 6 columns):\n",
      " #   Column        Non-Null Count  Dtype  \n",
      "---  ------        --------------  -----  \n",
      " 0   Rank          223 non-null    int64  \n",
      " 1   Country       223 non-null    object \n",
      " 2   Overall Life  223 non-null    float64\n",
      " 3   Male Life     223 non-null    float64\n",
      " 4   Female Life   223 non-null    float64\n",
      " 5   Continent     223 non-null    object \n",
      "dtypes: float64(3), int64(1), object(2)\n",
      "memory usage: 10.6+ KB\n"
     ]
    }
   ],
   "source": [
    "data.info()"
   ]
  },
  {
   "cell_type": "markdown",
   "id": "7899a8d5",
   "metadata": {},
   "source": [
    "#### melihat statistika data"
   ]
  },
  {
   "cell_type": "code",
   "execution_count": 6,
   "id": "88646f77",
   "metadata": {},
   "outputs": [
    {
     "data": {
      "text/html": [
       "<div>\n",
       "<style scoped>\n",
       "    .dataframe tbody tr th:only-of-type {\n",
       "        vertical-align: middle;\n",
       "    }\n",
       "\n",
       "    .dataframe tbody tr th {\n",
       "        vertical-align: top;\n",
       "    }\n",
       "\n",
       "    .dataframe thead th {\n",
       "        text-align: right;\n",
       "    }\n",
       "</style>\n",
       "<table border=\"1\" class=\"dataframe\">\n",
       "  <thead>\n",
       "    <tr style=\"text-align: right;\">\n",
       "      <th></th>\n",
       "      <th>Rank</th>\n",
       "      <th>Overall Life</th>\n",
       "      <th>Male Life</th>\n",
       "      <th>Female Life</th>\n",
       "    </tr>\n",
       "  </thead>\n",
       "  <tbody>\n",
       "    <tr>\n",
       "      <th>count</th>\n",
       "      <td>223.000000</td>\n",
       "      <td>223.000000</td>\n",
       "      <td>223.000000</td>\n",
       "      <td>223.000000</td>\n",
       "    </tr>\n",
       "    <tr>\n",
       "      <th>mean</th>\n",
       "      <td>112.000000</td>\n",
       "      <td>72.487892</td>\n",
       "      <td>70.041704</td>\n",
       "      <td>75.019283</td>\n",
       "    </tr>\n",
       "    <tr>\n",
       "      <th>std</th>\n",
       "      <td>64.518731</td>\n",
       "      <td>8.459335</td>\n",
       "      <td>8.074942</td>\n",
       "      <td>8.986633</td>\n",
       "    </tr>\n",
       "    <tr>\n",
       "      <th>min</th>\n",
       "      <td>1.000000</td>\n",
       "      <td>50.200000</td>\n",
       "      <td>48.600000</td>\n",
       "      <td>51.000000</td>\n",
       "    </tr>\n",
       "    <tr>\n",
       "      <th>25%</th>\n",
       "      <td>56.500000</td>\n",
       "      <td>67.450000</td>\n",
       "      <td>64.500000</td>\n",
       "      <td>69.750000</td>\n",
       "    </tr>\n",
       "    <tr>\n",
       "      <th>50%</th>\n",
       "      <td>112.000000</td>\n",
       "      <td>74.900000</td>\n",
       "      <td>72.200000</td>\n",
       "      <td>77.900000</td>\n",
       "    </tr>\n",
       "    <tr>\n",
       "      <th>75%</th>\n",
       "      <td>167.500000</td>\n",
       "      <td>78.600000</td>\n",
       "      <td>75.850000</td>\n",
       "      <td>81.600000</td>\n",
       "    </tr>\n",
       "    <tr>\n",
       "      <th>max</th>\n",
       "      <td>223.000000</td>\n",
       "      <td>89.500000</td>\n",
       "      <td>85.600000</td>\n",
       "      <td>93.500000</td>\n",
       "    </tr>\n",
       "  </tbody>\n",
       "</table>\n",
       "</div>"
      ],
      "text/plain": [
       "             Rank  Overall Life   Male Life  Female Life\n",
       "count  223.000000    223.000000  223.000000   223.000000\n",
       "mean   112.000000     72.487892   70.041704    75.019283\n",
       "std     64.518731      8.459335    8.074942     8.986633\n",
       "min      1.000000     50.200000   48.600000    51.000000\n",
       "25%     56.500000     67.450000   64.500000    69.750000\n",
       "50%    112.000000     74.900000   72.200000    77.900000\n",
       "75%    167.500000     78.600000   75.850000    81.600000\n",
       "max    223.000000     89.500000   85.600000    93.500000"
      ]
     },
     "execution_count": 6,
     "metadata": {},
     "output_type": "execute_result"
    }
   ],
   "source": [
    "data.describe()"
   ]
  },
  {
   "cell_type": "markdown",
   "id": "691f7685",
   "metadata": {},
   "source": [
    "#### dimensi data"
   ]
  },
  {
   "cell_type": "code",
   "execution_count": 77,
   "id": "30edeeb5",
   "metadata": {},
   "outputs": [
    {
     "data": {
      "text/plain": [
       "(223, 5)"
      ]
     },
     "execution_count": 77,
     "metadata": {},
     "output_type": "execute_result"
    }
   ],
   "source": [
    "data.shape"
   ]
  },
  {
   "cell_type": "markdown",
   "id": "1a4663b4",
   "metadata": {},
   "source": [
    "data terdiri dari 223 rows dan 5 columns"
   ]
  },
  {
   "cell_type": "markdown",
   "id": "70ca5a46",
   "metadata": {},
   "source": [
    "# Data Cleaning"
   ]
  },
  {
   "cell_type": "markdown",
   "id": "1cc5bdd6",
   "metadata": {},
   "source": [
    "#### melihat values columns"
   ]
  },
  {
   "cell_type": "code",
   "execution_count": 7,
   "id": "e31ab885",
   "metadata": {},
   "outputs": [
    {
     "name": "stdout",
     "output_type": "stream",
     "text": [
      "Rank [ 1  2  3  4  5  6  7  8  9 10 11 12 13 14 15 16 17 18 19 20 21 22 23 24\n",
      " 25 26 27 28 29 30] \n",
      "\n",
      "Country ['Monaco' 'Japan' 'Singapore' 'Macau; China' 'San Marino' 'Iceland'\n",
      " 'Hong Kong, China' 'Andorra' 'Switzerland' 'Guernsey' 'Israel'\n",
      " 'South Korea' 'Luxembourg' 'Australia' 'Italy' 'Sweden' 'Canada' 'Jersey'\n",
      " 'Liechtenstein' 'France, metropolitan' 'Norway' 'Spain' 'Austria'\n",
      " 'Anguilla' 'Bermuda' 'Netherlands' 'Cayman Islands' 'Isle of Man'\n",
      " 'New Zealand' 'Belgium'] \n",
      "\n",
      "Overall Life [89.5 85.  84.5 83.3 83.  82.9 82.8 82.6 82.5 82.4 82.3 82.2 82.1 81.9\n",
      " 81.8 81.7 81.5 81.4 81.3 81.2 81.  80.9 80.8 80.7 80.5 80.4 80.2 80.1\n",
      " 80.  79.8] \n",
      "\n",
      "Male Life [85.6 81.7 82.3 81.6 80.7 80.9 80.3 80.6 79.9 79.3 79.8 79.6 80.2 79.2\n",
      " 79.4 79.7 78.7 78.9 78.8 78.1 78.5 79.5 79.1 78.4 77.9 78.2 77.8 78.\n",
      " 77.4 77. ] \n",
      "\n",
      "Female Life [93.5 88.5 87.8 87.6 86.1 85.3 85.8 85.1 85.  85.4 84.4 84.9 84.8 84.1\n",
      " 84.6 84.5 83.9 84.3 83.6 84.  83.  83.3 83.7 83.2 83.1 82.8 83.5 82.7\n",
      " 82.1 82.6] \n",
      "\n",
      "Continent ['Europe' 'Asia' 'Oceania' 'North America' 'Africa' 'South America'] \n",
      "\n"
     ]
    }
   ],
   "source": [
    "for col in data.columns:\n",
    "    print(col, data[col].unique()[0:30], \"\\n\")"
   ]
  },
  {
   "cell_type": "markdown",
   "id": "3be5849d",
   "metadata": {},
   "source": [
    "#### melihat missing values"
   ]
  },
  {
   "cell_type": "code",
   "execution_count": 8,
   "id": "32e0535c",
   "metadata": {},
   "outputs": [
    {
     "data": {
      "text/plain": [
       "Rank            0\n",
       "Country         0\n",
       "Overall Life    0\n",
       "Male Life       0\n",
       "Female Life     0\n",
       "Continent       0\n",
       "dtype: int64"
      ]
     },
     "execution_count": 8,
     "metadata": {},
     "output_type": "execute_result"
    }
   ],
   "source": [
    "data.isna().sum()"
   ]
  },
  {
   "cell_type": "markdown",
   "id": "f59ac943",
   "metadata": {},
   "source": [
    "terlihat tidak terdapat missing values dalam data"
   ]
  },
  {
   "cell_type": "markdown",
   "id": "d3a40021",
   "metadata": {},
   "source": [
    "#### menghapus kolom"
   ]
  },
  {
   "cell_type": "code",
   "execution_count": 9,
   "id": "da985e68",
   "metadata": {},
   "outputs": [
    {
     "data": {
      "text/html": [
       "<div>\n",
       "<style scoped>\n",
       "    .dataframe tbody tr th:only-of-type {\n",
       "        vertical-align: middle;\n",
       "    }\n",
       "\n",
       "    .dataframe tbody tr th {\n",
       "        vertical-align: top;\n",
       "    }\n",
       "\n",
       "    .dataframe thead th {\n",
       "        text-align: right;\n",
       "    }\n",
       "</style>\n",
       "<table border=\"1\" class=\"dataframe\">\n",
       "  <thead>\n",
       "    <tr style=\"text-align: right;\">\n",
       "      <th></th>\n",
       "      <th>Country</th>\n",
       "      <th>Overall Life</th>\n",
       "      <th>Male Life</th>\n",
       "      <th>Female Life</th>\n",
       "      <th>Continent</th>\n",
       "    </tr>\n",
       "  </thead>\n",
       "  <tbody>\n",
       "    <tr>\n",
       "      <th>0</th>\n",
       "      <td>Monaco</td>\n",
       "      <td>89.5</td>\n",
       "      <td>85.6</td>\n",
       "      <td>93.5</td>\n",
       "      <td>Europe</td>\n",
       "    </tr>\n",
       "    <tr>\n",
       "      <th>1</th>\n",
       "      <td>Japan</td>\n",
       "      <td>85.0</td>\n",
       "      <td>81.7</td>\n",
       "      <td>88.5</td>\n",
       "      <td>Asia</td>\n",
       "    </tr>\n",
       "    <tr>\n",
       "      <th>2</th>\n",
       "      <td>Singapore</td>\n",
       "      <td>85.0</td>\n",
       "      <td>82.3</td>\n",
       "      <td>87.8</td>\n",
       "      <td>Asia</td>\n",
       "    </tr>\n",
       "    <tr>\n",
       "      <th>3</th>\n",
       "      <td>Macau; China</td>\n",
       "      <td>84.5</td>\n",
       "      <td>81.6</td>\n",
       "      <td>87.6</td>\n",
       "      <td>Asia</td>\n",
       "    </tr>\n",
       "    <tr>\n",
       "      <th>4</th>\n",
       "      <td>San Marino</td>\n",
       "      <td>83.3</td>\n",
       "      <td>80.7</td>\n",
       "      <td>86.1</td>\n",
       "      <td>Europe</td>\n",
       "    </tr>\n",
       "  </tbody>\n",
       "</table>\n",
       "</div>"
      ],
      "text/plain": [
       "        Country  Overall Life  Male Life  Female Life Continent\n",
       "0        Monaco          89.5       85.6         93.5    Europe\n",
       "1         Japan          85.0       81.7         88.5      Asia\n",
       "2     Singapore          85.0       82.3         87.8      Asia\n",
       "3  Macau; China          84.5       81.6         87.6      Asia\n",
       "4    San Marino          83.3       80.7         86.1    Europe"
      ]
     },
     "execution_count": 9,
     "metadata": {},
     "output_type": "execute_result"
    }
   ],
   "source": [
    "data = data.drop('Rank', axis=1)\n",
    "data.head()"
   ]
  },
  {
   "cell_type": "markdown",
   "id": "2117a0e6",
   "metadata": {},
   "source": [
    "dilakukan penghapusan features Rank karena features tersebut merupakan numerical serial sehingga tidak dibutuhkan dalam membuat model clustering"
   ]
  },
  {
   "cell_type": "markdown",
   "id": "e5748a57",
   "metadata": {},
   "source": [
    "# Explorasi Data"
   ]
  },
  {
   "cell_type": "markdown",
   "id": "e4ce87b8",
   "metadata": {},
   "source": [
    "#### membuat query baru yaitu dataset['Overall_Rank']"
   ]
  },
  {
   "cell_type": "code",
   "execution_count": 10,
   "id": "f096e050",
   "metadata": {},
   "outputs": [
    {
     "data": {
      "text/html": [
       "<div>\n",
       "<style scoped>\n",
       "    .dataframe tbody tr th:only-of-type {\n",
       "        vertical-align: middle;\n",
       "    }\n",
       "\n",
       "    .dataframe tbody tr th {\n",
       "        vertical-align: top;\n",
       "    }\n",
       "\n",
       "    .dataframe thead th {\n",
       "        text-align: right;\n",
       "    }\n",
       "</style>\n",
       "<table border=\"1\" class=\"dataframe\">\n",
       "  <thead>\n",
       "    <tr style=\"text-align: right;\">\n",
       "      <th></th>\n",
       "      <th>Country</th>\n",
       "      <th>Overall Life</th>\n",
       "      <th>Male Life</th>\n",
       "      <th>Female Life</th>\n",
       "      <th>Continent</th>\n",
       "      <th>Overall_Rank</th>\n",
       "    </tr>\n",
       "  </thead>\n",
       "  <tbody>\n",
       "    <tr>\n",
       "      <th>0</th>\n",
       "      <td>Monaco</td>\n",
       "      <td>89.5</td>\n",
       "      <td>85.6</td>\n",
       "      <td>93.5</td>\n",
       "      <td>Europe</td>\n",
       "      <td>3</td>\n",
       "    </tr>\n",
       "    <tr>\n",
       "      <th>1</th>\n",
       "      <td>Japan</td>\n",
       "      <td>85.0</td>\n",
       "      <td>81.7</td>\n",
       "      <td>88.5</td>\n",
       "      <td>Asia</td>\n",
       "      <td>3</td>\n",
       "    </tr>\n",
       "    <tr>\n",
       "      <th>2</th>\n",
       "      <td>Singapore</td>\n",
       "      <td>85.0</td>\n",
       "      <td>82.3</td>\n",
       "      <td>87.8</td>\n",
       "      <td>Asia</td>\n",
       "      <td>3</td>\n",
       "    </tr>\n",
       "    <tr>\n",
       "      <th>3</th>\n",
       "      <td>Macau; China</td>\n",
       "      <td>84.5</td>\n",
       "      <td>81.6</td>\n",
       "      <td>87.6</td>\n",
       "      <td>Asia</td>\n",
       "      <td>3</td>\n",
       "    </tr>\n",
       "    <tr>\n",
       "      <th>4</th>\n",
       "      <td>San Marino</td>\n",
       "      <td>83.3</td>\n",
       "      <td>80.7</td>\n",
       "      <td>86.1</td>\n",
       "      <td>Europe</td>\n",
       "      <td>3</td>\n",
       "    </tr>\n",
       "  </tbody>\n",
       "</table>\n",
       "</div>"
      ],
      "text/plain": [
       "        Country  Overall Life  Male Life  Female Life Continent  Overall_Rank\n",
       "0        Monaco          89.5       85.6         93.5    Europe             3\n",
       "1         Japan          85.0       81.7         88.5      Asia             3\n",
       "2     Singapore          85.0       82.3         87.8      Asia             3\n",
       "3  Macau; China          84.5       81.6         87.6      Asia             3\n",
       "4    San Marino          83.3       80.7         86.1    Europe             3"
      ]
     },
     "execution_count": 10,
     "metadata": {},
     "output_type": "execute_result"
    }
   ],
   "source": [
    "dataset = data.copy()\n",
    "dataset['Overall_Rank'] = pd.cut(dataset['Overall Life'], [0, 68, 78, 100], labels=[1,2,3]).astype('int64')\n",
    "dataset.head()"
   ]
  },
  {
   "cell_type": "code",
   "execution_count": 11,
   "id": "acdaed0d",
   "metadata": {},
   "outputs": [
    {
     "data": {
      "text/plain": [
       "array([3, 2, 1])"
      ]
     },
     "execution_count": 11,
     "metadata": {},
     "output_type": "execute_result"
    }
   ],
   "source": [
    "dataset['Overall_Rank'].unique()"
   ]
  },
  {
   "cell_type": "markdown",
   "id": "1cc09aac",
   "metadata": {},
   "source": [
    "#### membuat features pengelompokan numerical features"
   ]
  },
  {
   "cell_type": "code",
   "execution_count": 12,
   "id": "a2677836",
   "metadata": {},
   "outputs": [
    {
     "data": {
      "text/plain": [
       "['Overall Life', 'Male Life', 'Female Life']"
      ]
     },
     "execution_count": 12,
     "metadata": {},
     "output_type": "execute_result"
    }
   ],
   "source": [
    "numerical_feat = [feat for feat in data.columns if data[feat].dtype!='O']\n",
    "numerical_feat"
   ]
  },
  {
   "cell_type": "markdown",
   "id": "43f066c2",
   "metadata": {},
   "source": [
    "### Visualisasi Hubungan Male Life dengan life expectations"
   ]
  },
  {
   "cell_type": "code",
   "execution_count": 13,
   "id": "aa9fb0cc",
   "metadata": {},
   "outputs": [
    {
     "name": "stderr",
     "output_type": "stream",
     "text": [
      "/Users/dody/opt/anaconda3/lib/python3.8/site-packages/seaborn/distributions.py:2551: FutureWarning: `distplot` is a deprecated function and will be removed in a future version. Please adapt your code to use either `displot` (a figure-level function with similar flexibility) or `histplot` (an axes-level function for histograms).\n",
      "  warnings.warn(msg, FutureWarning)\n",
      "/Users/dody/opt/anaconda3/lib/python3.8/site-packages/seaborn/distributions.py:2551: FutureWarning: `distplot` is a deprecated function and will be removed in a future version. Please adapt your code to use either `displot` (a figure-level function with similar flexibility) or `histplot` (an axes-level function for histograms).\n",
      "  warnings.warn(msg, FutureWarning)\n",
      "/Users/dody/opt/anaconda3/lib/python3.8/site-packages/seaborn/distributions.py:2551: FutureWarning: `distplot` is a deprecated function and will be removed in a future version. Please adapt your code to use either `displot` (a figure-level function with similar flexibility) or `histplot` (an axes-level function for histograms).\n",
      "  warnings.warn(msg, FutureWarning)\n"
     ]
    },
    {
     "data": {
      "image/png": "[encoded data removed]",
      "text/plain": [
       "<Figure size 1440x576 with 1 Axes>"
      ]
     },
     "metadata": {
      "needs_background": "light"
     },
     "output_type": "display_data"
    }
   ],
   "source": [
    "plt.figure(figsize=(20,8))\n",
    "sns.distplot(dataset['Male Life'][dataset['Overall_Rank'] == 1], bins=[0, 68, 78, 100], color='g', label='Low expectation')\n",
    "sns.distplot(dataset['Male Life'][dataset['Overall_Rank'] == 2], bins=[0, 68, 78, 100], color='r', label='Medium expectation')\n",
    "sns.distplot(dataset['Male Life'][dataset['Overall_Rank'] == 3], bins=[0, 68, 78, 100], color='b', label='High expectation')\n",
    "plt.legend();"
   ]
  },
  {
   "cell_type": "markdown",
   "id": "d74ecdfc",
   "metadata": {},
   "source": [
    "* Dari visualisasi terlihat bahwa dalam range Male Life Expectation dengan kategori low expetation berada pada range 0 sampai dengan 70,  kategori medium expetation berada pada range 70 sampai dengan 80, dan kategori high expetation berada diatas range 80\n",
    "\n",
    "* Dari Visualisasi terlihat bahwa Male Life Expectation dengan range diatas 80 mutlak dalam kategori High expectation"
   ]
  },
  {
   "cell_type": "markdown",
   "id": "37a7d82e",
   "metadata": {},
   "source": [
    "#### Visualisasi Hubungan Female Life dengan Life expectations"
   ]
  },
  {
   "cell_type": "code",
   "execution_count": 14,
   "id": "787460e9",
   "metadata": {},
   "outputs": [
    {
     "name": "stderr",
     "output_type": "stream",
     "text": [
      "/Users/dody/opt/anaconda3/lib/python3.8/site-packages/seaborn/distributions.py:2551: FutureWarning: `distplot` is a deprecated function and will be removed in a future version. Please adapt your code to use either `displot` (a figure-level function with similar flexibility) or `histplot` (an axes-level function for histograms).\n",
      "  warnings.warn(msg, FutureWarning)\n",
      "/Users/dody/opt/anaconda3/lib/python3.8/site-packages/seaborn/distributions.py:2551: FutureWarning: `distplot` is a deprecated function and will be removed in a future version. Please adapt your code to use either `displot` (a figure-level function with similar flexibility) or `histplot` (an axes-level function for histograms).\n",
      "  warnings.warn(msg, FutureWarning)\n",
      "/Users/dody/opt/anaconda3/lib/python3.8/site-packages/seaborn/distributions.py:2551: FutureWarning: `distplot` is a deprecated function and will be removed in a future version. Please adapt your code to use either `displot` (a figure-level function with similar flexibility) or `histplot` (an axes-level function for histograms).\n",
      "  warnings.warn(msg, FutureWarning)\n"
     ]
    },
    {
     "data": {
      "image/png": "[encoded data removed]",
      "text/plain": [
       "<Figure size 1440x576 with 1 Axes>"
      ]
     },
     "metadata": {
      "needs_background": "light"
     },
     "output_type": "display_data"
    }
   ],
   "source": [
    "plt.figure(figsize=(20,8))\n",
    "sns.distplot(dataset['Female Life'][dataset['Overall_Rank'] == 1], bins=[0, 68, 78, 100], color='g', label='Low expectation')\n",
    "sns.distplot(dataset['Female Life'][dataset['Overall_Rank'] == 2], bins=[0, 68, 78, 100], color='r', label='Medium expectation')\n",
    "sns.distplot(dataset['Female Life'][dataset['Overall_Rank'] == 3], bins=[0, 68, 78, 100], color='b', label='High expectation')\n",
    "plt.legend();"
   ]
  },
  {
   "cell_type": "markdown",
   "id": "80a23462",
   "metadata": {},
   "source": [
    "* Dari visualisasi terlihat bahwa dalam range Female Life Expectation dengan kategori low expetation berada pada range 0 sampai dengan 70,  kategori medium expetation berada pada range 70 sampai dengan 80, dan kategori high expetation berada diatas range 80\n",
    "\n",
    "* Dari Visualisasi terlihat bahwa Female Life Expectation dengan range 0 sampai dengan 70, mutlak dalam kategori Low expectation"
   ]
  },
  {
   "cell_type": "markdown",
   "id": "dfe24fc5",
   "metadata": {},
   "source": [
    "### Visualisasi data Categorical"
   ]
  },
  {
   "cell_type": "code",
   "execution_count": 15,
   "id": "4b5d8a05",
   "metadata": {},
   "outputs": [
    {
     "data": {
      "text/plain": [
       "['Country', 'Continent']"
      ]
     },
     "execution_count": 15,
     "metadata": {},
     "output_type": "execute_result"
    }
   ],
   "source": [
    "categorical_feat = [feat for feat in data.columns if data[feat].dtype=='O']\n",
    "categorical_feat"
   ]
  },
  {
   "cell_type": "code",
   "execution_count": 16,
   "id": "a5e3dbd1",
   "metadata": {},
   "outputs": [
    {
     "name": "stderr",
     "output_type": "stream",
     "text": [
      "/Users/dody/opt/anaconda3/lib/python3.8/site-packages/seaborn/_decorators.py:36: FutureWarning: Pass the following variable as a keyword arg: x. From version 0.12, the only valid positional argument will be `data`, and passing other arguments without an explicit keyword will result in an error or misinterpretation.\n",
      "  warnings.warn(\n",
      "/Users/dody/opt/anaconda3/lib/python3.8/site-packages/seaborn/_decorators.py:36: FutureWarning: Pass the following variable as a keyword arg: x. From version 0.12, the only valid positional argument will be `data`, and passing other arguments without an explicit keyword will result in an error or misinterpretation.\n",
      "  warnings.warn(\n"
     ]
    },
    {
     "data": {
      "image/png": "[encoded data removed]",
      "text/plain": [
       "<Figure size 1440x720 with 2 Axes>"
      ]
     },
     "metadata": {
      "needs_background": "light"
     },
     "output_type": "display_data"
    }
   ],
   "source": [
    "fig, axes = plt.subplots(2,1, figsize=(20,10))\n",
    "\n",
    "for cat, ax in zip(categorical_feat, axes.flatten()):\n",
    "    sns.countplot(cat, data=dataset, hue='Overall_Rank', ax=ax)"
   ]
  },
  {
   "cell_type": "markdown",
   "id": "df019837",
   "metadata": {},
   "source": [
    "Dari Visualisasi terlihat bahwa:\n",
    "* Negara dibenua Eropa harapan Hidup warganya (Life Expectation) lebih didominasi oleh kategori High Expectation\n",
    "* Negara dibenua Asia harapan Hidup warganya (Life Expectation) lebih didominasi oleh kategori Medium Expectation\n",
    "* Negara dibenua Ocenania harapan Hidup warganya (Life Expectation) lebih didominasi oleh kategori Medium Expectation\n",
    "* Negara dibenua North America harapan Hidup warganya (Life Expectation) lebih didominasi oleh kategori Medium Expectation\n",
    "* Negara dibenua Africa harapan Hidup warganya (Life Expectation) lebih didominasi oleh kategori Low Expectation\n",
    "* Negara dibenua South America harapan Hidup warganya (Life Expectation) lebih didominasi oleh kategori Medium Expectation"
   ]
  },
  {
   "cell_type": "markdown",
   "id": "6764a406",
   "metadata": {},
   "source": [
    "# Data Preprocessing"
   ]
  },
  {
   "cell_type": "markdown",
   "id": "41300a2f",
   "metadata": {},
   "source": [
    "#### melihat data"
   ]
  },
  {
   "cell_type": "code",
   "execution_count": 17,
   "id": "1151243f",
   "metadata": {},
   "outputs": [
    {
     "data": {
      "text/html": [
       "<div>\n",
       "<style scoped>\n",
       "    .dataframe tbody tr th:only-of-type {\n",
       "        vertical-align: middle;\n",
       "    }\n",
       "\n",
       "    .dataframe tbody tr th {\n",
       "        vertical-align: top;\n",
       "    }\n",
       "\n",
       "    .dataframe thead th {\n",
       "        text-align: right;\n",
       "    }\n",
       "</style>\n",
       "<table border=\"1\" class=\"dataframe\">\n",
       "  <thead>\n",
       "    <tr style=\"text-align: right;\">\n",
       "      <th></th>\n",
       "      <th>Country</th>\n",
       "      <th>Overall Life</th>\n",
       "      <th>Male Life</th>\n",
       "      <th>Female Life</th>\n",
       "      <th>Continent</th>\n",
       "    </tr>\n",
       "  </thead>\n",
       "  <tbody>\n",
       "    <tr>\n",
       "      <th>0</th>\n",
       "      <td>Monaco</td>\n",
       "      <td>89.5</td>\n",
       "      <td>85.6</td>\n",
       "      <td>93.5</td>\n",
       "      <td>Europe</td>\n",
       "    </tr>\n",
       "    <tr>\n",
       "      <th>1</th>\n",
       "      <td>Japan</td>\n",
       "      <td>85.0</td>\n",
       "      <td>81.7</td>\n",
       "      <td>88.5</td>\n",
       "      <td>Asia</td>\n",
       "    </tr>\n",
       "    <tr>\n",
       "      <th>2</th>\n",
       "      <td>Singapore</td>\n",
       "      <td>85.0</td>\n",
       "      <td>82.3</td>\n",
       "      <td>87.8</td>\n",
       "      <td>Asia</td>\n",
       "    </tr>\n",
       "    <tr>\n",
       "      <th>3</th>\n",
       "      <td>Macau; China</td>\n",
       "      <td>84.5</td>\n",
       "      <td>81.6</td>\n",
       "      <td>87.6</td>\n",
       "      <td>Asia</td>\n",
       "    </tr>\n",
       "    <tr>\n",
       "      <th>4</th>\n",
       "      <td>San Marino</td>\n",
       "      <td>83.3</td>\n",
       "      <td>80.7</td>\n",
       "      <td>86.1</td>\n",
       "      <td>Europe</td>\n",
       "    </tr>\n",
       "  </tbody>\n",
       "</table>\n",
       "</div>"
      ],
      "text/plain": [
       "        Country  Overall Life  Male Life  Female Life Continent\n",
       "0        Monaco          89.5       85.6         93.5    Europe\n",
       "1         Japan          85.0       81.7         88.5      Asia\n",
       "2     Singapore          85.0       82.3         87.8      Asia\n",
       "3  Macau; China          84.5       81.6         87.6      Asia\n",
       "4    San Marino          83.3       80.7         86.1    Europe"
      ]
     },
     "execution_count": 17,
     "metadata": {},
     "output_type": "execute_result"
    }
   ],
   "source": [
    "data.head()"
   ]
  },
  {
   "cell_type": "code",
   "execution_count": 18,
   "id": "184d0c7c",
   "metadata": {},
   "outputs": [
    {
     "data": {
      "text/plain": [
       "Index(['Country', 'Overall Life', 'Male Life', 'Female Life', 'Continent'], dtype='object')"
      ]
     },
     "execution_count": 18,
     "metadata": {},
     "output_type": "execute_result"
    }
   ],
   "source": [
    "data.columns"
   ]
  },
  {
   "cell_type": "markdown",
   "id": "9a1061b8",
   "metadata": {},
   "source": [
    "### Melakukan Feature Engineering"
   ]
  },
  {
   "cell_type": "markdown",
   "id": "47442487",
   "metadata": {},
   "source": [
    "#### melakukan proses binning"
   ]
  },
  {
   "cell_type": "code",
   "execution_count": 19,
   "id": "03af891f",
   "metadata": {},
   "outputs": [],
   "source": [
    "data['Overall Life'] = pd.cut(data['Overall Life'], [0, 68, 78, 100], labels=[1,2,3]).astype('int64')\n",
    "data['Male Life'] = pd.cut(data['Male Life'], [0, 68, 78, 100], labels=[1,2,3]).astype('int64')\n",
    "data['Female Life'] = pd.cut(data['Female Life'], [0, 68, 78, 100], labels=[1,2,3]).astype('int64')"
   ]
  },
  {
   "cell_type": "markdown",
   "id": "d04114b5",
   "metadata": {},
   "source": [
    "proses binning dilakukan dengan mengelompokan data numerical kedalam bagian kecil agar sebaran data lebih mudah dipahami"
   ]
  },
  {
   "cell_type": "markdown",
   "id": "e3fff636",
   "metadata": {},
   "source": [
    "#### mengubah data Categorical menjadi numerical"
   ]
  },
  {
   "cell_type": "code",
   "execution_count": 23,
   "id": "0ce1f44e",
   "metadata": {},
   "outputs": [
    {
     "data": {
      "text/plain": [
       "['Country', 'Continent']"
      ]
     },
     "execution_count": 23,
     "metadata": {},
     "output_type": "execute_result"
    }
   ],
   "source": [
    "categorical_feat"
   ]
  },
  {
   "cell_type": "code",
   "execution_count": 24,
   "id": "72cbc639",
   "metadata": {},
   "outputs": [
    {
     "name": "stdout",
     "output_type": "stream",
     "text": [
      "\n",
      "\n",
      "country : \n",
      " {'Monaco': 0, 'Japan': 1, 'Singapore': 2, 'Macau; China': 3, 'San Marino': 4, 'Iceland': 5, 'Hong Kong, China': 6, 'Andorra': 7, 'Switzerland': 8, 'Guernsey': 9, 'Israel': 10, 'South Korea': 11, 'Luxembourg': 12, 'Australia': 13, 'Italy': 14, 'Sweden': 15, 'Canada': 16, 'Jersey': 17, 'Liechtenstein': 18, 'France, metropolitan': 19, 'Norway': 20, 'Spain': 21, 'Austria': 22, 'Anguilla': 23, 'Bermuda': 24, 'Netherlands': 25, 'Cayman Islands': 26, 'Isle of Man': 27, 'New Zealand': 28, 'Belgium': 29, 'Finland': 30, 'Ireland': 31, 'Germany': 32, 'United Kingdom': 33, 'Greece': 34, 'Saint Pierre and Miquelon': 35, 'Faroe Islands': 36, 'Malta': 37, 'European Union': 38, 'Taiwan': 39, 'U.S. Virgin Islands': 40, 'Turks and Caicos Islands': 41, 'United States': 42, 'Wallis and Futuna': 43, 'Saint Helena, Ascension and Tristan da Cunha': 44, 'Denmark': 45, 'Gibraltar': 46, 'Puerto Rico': 47, 'Portugal': 48, 'Bahrain': 49, 'Chile': 50, 'Cuba': 51, 'Cyprus': 52, 'Qatar': 53, 'British Virgin Islands': 54, 'Costa Rica': 55, 'Czech Republic': 56, 'Panama': 57, 'Albania': 58, 'Slovenia': 59, 'Dominican Republic': 60, 'Sint Maarten': 61, 'Kuwait': 62, 'Northern Mariana Islands; US': 63, 'Falkland Islands': 64, 'Saint Lucia': 65, 'New Caledonia': 66, 'Lebanon': 67, 'Poland': 68, 'United Arab Emirates': 69, 'Brunei': 70, 'French Polynesia': 71, 'Paraguay': 72, 'Uruguay': 73, 'Argentina': 74, 'Slovakia': 75, 'Dominica': 76, 'Morocco': 77, 'Algeria': 78, 'Aruba': 79, 'Ecuador': 80, 'Sri Lanka': 81, 'Bosnia and Herzegovina': 82, 'Estonia': 83, 'Antigua and Barbuda': 84, 'Libya': 85, 'Georgia': 86, 'Republic of Macedonia': 87, 'Tonga': 88, 'Tunisia': 89, 'Croatia': 90, 'Hungary': 91, 'Mexico': 92, 'Cook Islands': 93, 'Venezuela': 94, 'Colombia': 95, 'Saint Kitts and Nevis': 96, 'Maldives': 97, 'Mauritius': 98, 'Oman': 99, \"People's Republic of China\": 100, 'Serbia': 101, 'American Samoa': 102, 'Barbados': 103, 'Saint Vincent and the Grenadines': 104, 'Saudi Arabia': 105, 'Solomon Islands': 106, 'Romania': 107, 'Malaysia': 108, 'West Bank': 109, 'Iraq': 110, 'Lithuania': 111, 'Syria': 112, 'Turkey': 113, 'El Salvador': 114, 'Seychelles': 115, 'Thailand': 116, 'Armenia': 117, 'Jordan': 118, 'Bulgaria': 119, 'Latvia': 120, 'Montserrat': 121, 'Grenada': 122, 'Gaza Strip': 123, 'Brazil': 124, 'Uzbekistan': 125, 'Peru': 126, 'Samoa': 127, 'Jamaica': 128, 'Vanuatu': 129, 'Vietnam': 130, 'Bangladesh': 131, 'Nicaragua': 132, 'Marshall Islands': 133, 'Palau': 134, 'Federated States of Micronesia': 135, 'Trinidad and Tobago': 136, 'Belarus': 137, 'Egypt': 138, 'Fiji': 139, 'Indonesia': 140, 'Azerbaijan': 141, 'Greenland; Denmark': 142, 'The Bahamas': 143, 'Guatemala': 144, 'Suriname': 145, 'Cabo Verde': 146, 'Ukraine': 147, 'Iran': 148, 'Honduras': 149, 'Kazakhstan': 150, 'Kyrgyzstan': 151, 'Moldova': 152, 'Nepal': 153, 'North Korea': 154, 'Russia': 155, 'Bhutan': 156, 'Turkmenistan': 157, 'Mongolia': 158, 'Bolivia': 159, 'Philippines': 160, 'Belize': 161, 'India': 162, 'Guyana': 163, 'Timor-Leste': 164, 'Pakistan': 165, 'Tajikistan': 166, 'Papua New Guinea': 167, 'Nauru': 168, 'Burma': 169, 'Ghana': 170, 'Tuvalu': 171, 'Kiribati': 172, 'Madagascar': 173, 'Yemen': 174, 'Togo': 175, 'Eritrea': 176, 'São Tomé and Príncipe': 177, 'The Gambia': 178, 'Cambodia': 179, 'Laos': 180, 'Comoros': 181, 'Equatorial Guinea': 182, 'Sudan': 183, 'Kenya': 184, 'Haiti': 185, 'Namibia': 186, 'Djibouti': 187, 'South Africa': 188, 'Western Sahara': 189, 'Mauritania': 190, 'Ethiopia': 191, 'Tanzania': 192, 'Benin': 193, 'Senegal': 194, 'Malawi': 195, 'Guinea': 196, 'Burundi': 197, 'Rwanda': 198, 'Republic of the Congo': 199, 'Liberia': 200, \"Côte d'Ivoire\": 201, 'Cameroon': 202, 'Sierra Leone': 203, 'Zimbabwe': 204, 'Democratic Republic of the Congo': 205, 'Angola': 206, 'Mali': 207, 'Burkina Faso': 208, 'Niger': 209, 'Uganda': 210, 'Botswana': 211, 'Nigeria': 212, 'Mozambique': 213, 'Lesotho': 214, 'Zambia': 215, 'Somalia': 216, 'Central African Republic': 217, 'Gabon': 218, 'Swaziland': 219, 'Afghanistan': 220, 'Guinea-Bissau': 221, 'Chad': 222}\n",
      "\n",
      "\n",
      "continent : \n",
      " {'Europe': 0, 'Asia': 1, 'Oceania': 2, 'North America': 3, 'Africa': 4, 'South America': 5}\n"
     ]
    }
   ],
   "source": [
    "country_mapping = { k: i for i, k in enumerate(data['Country'].unique(), 0)}\n",
    "continent_mapping = { k: i for i, k in enumerate(data['Continent'].unique(), 0)}\n",
    "\n",
    "print('\\n')\n",
    "print('country : \\n',country_mapping)\n",
    "print('\\n')\n",
    "print('continent : \\n',continent_mapping)"
   ]
  },
  {
   "cell_type": "code",
   "execution_count": 25,
   "id": "2a812422",
   "metadata": {},
   "outputs": [],
   "source": [
    "data['Country'] = data['Country'].map(country_mapping)\n",
    "data['Continent'] = data['Continent'].map(continent_mapping)"
   ]
  },
  {
   "cell_type": "markdown",
   "id": "41d9a879",
   "metadata": {},
   "source": [
    "mengunakan metode Integer Encoding untuk melihat values Categorical yang diubah menjadi numerical"
   ]
  },
  {
   "cell_type": "markdown",
   "id": "66c2d86b",
   "metadata": {},
   "source": [
    "#### melihat data setelah melakukan proses binning"
   ]
  },
  {
   "cell_type": "code",
   "execution_count": 26,
   "id": "4dba6a9d",
   "metadata": {},
   "outputs": [
    {
     "name": "stdout",
     "output_type": "stream",
     "text": [
      "Country [ 0  1  2  3  4  5  6  7  8  9 10 11 12 13 14 15 16 17 18 19 20 21 22 23\n",
      " 24 25 26 27 28 29] \n",
      "\n",
      "Overall Life [3 2 1] \n",
      "\n",
      "Male Life [3 2 1] \n",
      "\n",
      "Female Life [3 2 1] \n",
      "\n",
      "Continent [0 1 2 3 4 5] \n",
      "\n"
     ]
    }
   ],
   "source": [
    "for col in data.columns:\n",
    "    print(col, data[col].unique()[0:30], \"\\n\")"
   ]
  },
  {
   "cell_type": "markdown",
   "id": "5a945bf0",
   "metadata": {},
   "source": [
    "#### melihat info data setelah Preprocessing"
   ]
  },
  {
   "cell_type": "code",
   "execution_count": 27,
   "id": "26864b20",
   "metadata": {},
   "outputs": [
    {
     "name": "stdout",
     "output_type": "stream",
     "text": [
      "<class 'pandas.core.frame.DataFrame'>\n",
      "RangeIndex: 223 entries, 0 to 222\n",
      "Data columns (total 5 columns):\n",
      " #   Column        Non-Null Count  Dtype\n",
      "---  ------        --------------  -----\n",
      " 0   Country       223 non-null    int64\n",
      " 1   Overall Life  223 non-null    int64\n",
      " 2   Male Life     223 non-null    int64\n",
      " 3   Female Life   223 non-null    int64\n",
      " 4   Continent     223 non-null    int64\n",
      "dtypes: int64(5)\n",
      "memory usage: 8.8 KB\n"
     ]
    }
   ],
   "source": [
    "data.info()"
   ]
  },
  {
   "cell_type": "markdown",
   "id": "1ddfbebb",
   "metadata": {},
   "source": [
    "#### menentukan variabel X (dataset)"
   ]
  },
  {
   "cell_type": "code",
   "execution_count": 30,
   "id": "07c16cfd",
   "metadata": {},
   "outputs": [],
   "source": [
    "X = data"
   ]
  },
  {
   "cell_type": "markdown",
   "id": "d8613342",
   "metadata": {},
   "source": [
    "#### melakukan normalisasi data"
   ]
  },
  {
   "cell_type": "code",
   "execution_count": 32,
   "id": "fb127349",
   "metadata": {},
   "outputs": [
    {
     "data": {
      "text/plain": [
       "(223, 5)"
      ]
     },
     "execution_count": 32,
     "metadata": {},
     "output_type": "execute_result"
    }
   ],
   "source": [
    "scale = StandardScaler()\n",
    "scale.fit_transform(X)\n",
    "X.shape"
   ]
  },
  {
   "cell_type": "markdown",
   "id": "f2c39ce7",
   "metadata": {},
   "source": [
    "normalisasi data dilakukan untuk menormalkan scala dari features"
   ]
  },
  {
   "cell_type": "markdown",
   "id": "c0a3f95c",
   "metadata": {},
   "source": [
    "#### menggunakan metode elbow untuk menentukan jumlah cluster"
   ]
  },
  {
   "cell_type": "code",
   "execution_count": 33,
   "id": "a34c6139",
   "metadata": {},
   "outputs": [
    {
     "data": {
      "image/png": "[encoded data removed]",
      "text/plain": [
       "<Figure size 1080x576 with 1 Axes>"
      ]
     },
     "metadata": {
      "needs_background": "light"
     },
     "output_type": "display_data"
    }
   ],
   "source": [
    "K=[1,2,3,4,5,6,7,8,9,10]\n",
    "inertia=[KMeans(n_clusters=i).fit(X).inertia_ for i in K]\n",
    "plt.subplots(figsize=(15,8))\n",
    "plt.plot(K,inertia)\n",
    "plt.xlabel('K')\n",
    "plt.ylabel('Inertia')\n",
    "plt.show()"
   ]
  },
  {
   "cell_type": "markdown",
   "id": "0f907691",
   "metadata": {},
   "source": [
    "dari model elbow terlihat bahwa jumlah cluster yang baik adalah 3 cluster"
   ]
  },
  {
   "cell_type": "markdown",
   "id": "33c9b8e9",
   "metadata": {},
   "source": [
    "# Pendefinisian dan pelatihan Model"
   ]
  },
  {
   "cell_type": "markdown",
   "id": "aedc85e2",
   "metadata": {},
   "source": [
    "#### mendefinisikan dan melatih model KMeans"
   ]
  },
  {
   "cell_type": "code",
   "execution_count": 34,
   "id": "b7135ad3",
   "metadata": {},
   "outputs": [
    {
     "name": "stdout",
     "output_type": "stream",
     "text": [
      "CPU times: user 70.4 ms, sys: 3.56 ms, total: 73.9 ms\n",
      "Wall time: 198 ms\n"
     ]
    },
    {
     "data": {
      "text/plain": [
       "KMeans(n_clusters=3, random_state=42)"
      ]
     },
     "execution_count": 34,
     "metadata": {},
     "output_type": "execute_result"
    }
   ],
   "source": [
    "kmeans = KMeans(n_clusters=3, random_state=42)\n",
    "\n",
    "%time kmeans.fit(X)"
   ]
  },
  {
   "cell_type": "markdown",
   "id": "e4a455f9",
   "metadata": {},
   "source": [
    "#### membuat features KMeans dalam dataset"
   ]
  },
  {
   "cell_type": "code",
   "execution_count": 47,
   "id": "29057781",
   "metadata": {},
   "outputs": [
    {
     "data": {
      "text/plain": [
       "(223,)"
      ]
     },
     "execution_count": 47,
     "metadata": {},
     "output_type": "execute_result"
    }
   ],
   "source": [
    "kmeans_segment = kmeans.labels_\n",
    "kmeans_segment.shape"
   ]
  },
  {
   "cell_type": "code",
   "execution_count": 50,
   "id": "334a849b",
   "metadata": {},
   "outputs": [
    {
     "data": {
      "text/html": [
       "<div>\n",
       "<style scoped>\n",
       "    .dataframe tbody tr th:only-of-type {\n",
       "        vertical-align: middle;\n",
       "    }\n",
       "\n",
       "    .dataframe tbody tr th {\n",
       "        vertical-align: top;\n",
       "    }\n",
       "\n",
       "    .dataframe thead th {\n",
       "        text-align: right;\n",
       "    }\n",
       "</style>\n",
       "<table border=\"1\" class=\"dataframe\">\n",
       "  <thead>\n",
       "    <tr style=\"text-align: right;\">\n",
       "      <th></th>\n",
       "      <th>Country</th>\n",
       "      <th>Overall Life</th>\n",
       "      <th>Male Life</th>\n",
       "      <th>Female Life</th>\n",
       "      <th>Continent</th>\n",
       "      <th>Kmeans_Cluster</th>\n",
       "    </tr>\n",
       "  </thead>\n",
       "  <tbody>\n",
       "    <tr>\n",
       "      <th>0</th>\n",
       "      <td>0</td>\n",
       "      <td>3</td>\n",
       "      <td>3</td>\n",
       "      <td>3</td>\n",
       "      <td>0</td>\n",
       "      <td>0</td>\n",
       "    </tr>\n",
       "    <tr>\n",
       "      <th>1</th>\n",
       "      <td>1</td>\n",
       "      <td>3</td>\n",
       "      <td>3</td>\n",
       "      <td>3</td>\n",
       "      <td>1</td>\n",
       "      <td>0</td>\n",
       "    </tr>\n",
       "    <tr>\n",
       "      <th>2</th>\n",
       "      <td>2</td>\n",
       "      <td>3</td>\n",
       "      <td>3</td>\n",
       "      <td>3</td>\n",
       "      <td>1</td>\n",
       "      <td>0</td>\n",
       "    </tr>\n",
       "    <tr>\n",
       "      <th>3</th>\n",
       "      <td>3</td>\n",
       "      <td>3</td>\n",
       "      <td>3</td>\n",
       "      <td>3</td>\n",
       "      <td>1</td>\n",
       "      <td>0</td>\n",
       "    </tr>\n",
       "    <tr>\n",
       "      <th>4</th>\n",
       "      <td>4</td>\n",
       "      <td>3</td>\n",
       "      <td>3</td>\n",
       "      <td>3</td>\n",
       "      <td>0</td>\n",
       "      <td>0</td>\n",
       "    </tr>\n",
       "  </tbody>\n",
       "</table>\n",
       "</div>"
      ],
      "text/plain": [
       "   Country  Overall Life  Male Life  Female Life  Continent  Kmeans_Cluster\n",
       "0        0             3          3            3          0               0\n",
       "1        1             3          3            3          1               0\n",
       "2        2             3          3            3          1               0\n",
       "3        3             3          3            3          1               0\n",
       "4        4             3          3            3          0               0"
      ]
     },
     "execution_count": 50,
     "metadata": {},
     "output_type": "execute_result"
    }
   ],
   "source": [
    "dataset_kmeans = data.copy()\n",
    "dataset_kmeans['Kmeans_Cluster'] = kmeans_segment\n",
    "dataset_kmeans.head()"
   ]
  },
  {
   "cell_type": "code",
   "execution_count": 51,
   "id": "91b089ef",
   "metadata": {},
   "outputs": [
    {
     "data": {
      "text/plain": [
       "array([0, 2, 1], dtype=int32)"
      ]
     },
     "execution_count": 51,
     "metadata": {},
     "output_type": "execute_result"
    }
   ],
   "source": [
    "dataset_kmeans['Kmeans_Cluster'].unique()"
   ]
  },
  {
   "cell_type": "markdown",
   "id": "21d7bbd6",
   "metadata": {},
   "source": [
    "## visualisasi dengan PCA"
   ]
  },
  {
   "cell_type": "code",
   "execution_count": 36,
   "id": "c538abd9",
   "metadata": {},
   "outputs": [],
   "source": [
    "dist = 1 - cosine_similarity(X)"
   ]
  },
  {
   "cell_type": "code",
   "execution_count": 38,
   "id": "02b0a934",
   "metadata": {},
   "outputs": [
    {
     "data": {
      "text/plain": [
       "(223, 2)"
      ]
     },
     "execution_count": 38,
     "metadata": {},
     "output_type": "execute_result"
    }
   ],
   "source": [
    "pca = PCA(n_components=2)\n",
    "pca.fit(dist)\n",
    "X_PCA = pca.transform(dist)\n",
    "X_PCA.shape"
   ]
  },
  {
   "cell_type": "code",
   "execution_count": 43,
   "id": "5693037d",
   "metadata": {},
   "outputs": [
    {
     "data": {
      "text/plain": [
       "array([0, 0, 0, 0, 0, 0, 0, 0, 0, 0, 0, 0, 0, 0, 0, 0, 0, 0, 0, 0, 0, 0,\n",
       "       0, 0, 0, 0, 0, 0, 0, 0, 0, 0, 0, 0, 0, 0, 0, 0, 0, 0, 0, 0, 0, 0,\n",
       "       0, 0, 0, 0, 0, 0, 0, 0, 0, 0, 0, 0, 0, 0, 0, 0, 0, 0, 0, 0, 0, 0,\n",
       "       0, 0, 0, 0, 0, 0, 0, 0, 2, 2, 2, 2, 2, 2, 2, 2, 2, 2, 2, 2, 2, 2,\n",
       "       2, 2, 2, 2, 2, 2, 2, 2, 2, 2, 2, 2, 2, 2, 2, 2, 2, 2, 2, 2, 2, 2,\n",
       "       2, 2, 2, 2, 2, 2, 2, 2, 2, 2, 2, 2, 2, 2, 2, 2, 2, 2, 2, 2, 2, 2,\n",
       "       2, 2, 2, 2, 2, 2, 2, 2, 2, 2, 2, 2, 2, 2, 2, 2, 1, 1, 1, 1, 1, 1,\n",
       "       1, 1, 1, 1, 1, 1, 1, 1, 1, 1, 1, 1, 1, 1, 1, 1, 1, 1, 1, 1, 1, 1,\n",
       "       1, 1, 1, 1, 1, 1, 1, 1, 1, 1, 1, 1, 1, 1, 1, 1, 1, 1, 1, 1, 1, 1,\n",
       "       1, 1, 1, 1, 1, 1, 1, 1, 1, 1, 1, 1, 1, 1, 1, 1, 1, 1, 1, 1, 1, 1,\n",
       "       1, 1, 1], dtype=int32)"
      ]
     },
     "execution_count": 43,
     "metadata": {},
     "output_type": "execute_result"
    }
   ],
   "source": [
    "y_kmeans = kmeans.predict(X)\n",
    "y_kmeans"
   ]
  },
  {
   "cell_type": "code",
   "execution_count": 80,
   "id": "7feaf08d",
   "metadata": {},
   "outputs": [
    {
     "data": {
      "image/png": "[encoded data removed]",
      "text/plain": [
       "<Figure size 1440x720 with 2 Axes>"
      ]
     },
     "metadata": {
      "needs_background": "light"
     },
     "output_type": "display_data"
    }
   ],
   "source": [
    "# Subplots of chol, age thalach\n",
    "fig, (ax0,ax1) = plt.subplots(nrows=2,\n",
    "                                      ncols=1,\n",
    "                                      figsize=(20,10),\n",
    "                                      sharex=True\n",
    "                                     )\n",
    "# add data to ax0\n",
    "scatter = ax0.scatter(X_PCA[:, 0], X_PCA[:, 1]);\n",
    "\n",
    "# customize ax0\n",
    "ax0.set(title='Segmentasi Life Expectation sebelum dilakukan Clustering');\n",
    "\n",
    "\n",
    "# add data to ax1\n",
    "scatter = ax1.scatter(X_PCA[y_kmeans == 0, 0], X_PCA[y_kmeans == 0, 1], c='red', label='cluster 1');\n",
    "scatter = ax1.scatter(X_PCA[y_kmeans == 1, 0], X_PCA[y_kmeans == 1, 1], c='blue', label='cluster 2');\n",
    "scatter = ax1.scatter(X_PCA[y_kmeans == 2, 0], X_PCA[y_kmeans == 2, 1], c='green', label='cluster 3');\n",
    "\n",
    "# customize ax1\n",
    "ax1.set(title='Segmentasi Life Expectation setaelah dilakukan KMEANS Clustering');"
   ]
  },
  {
   "cell_type": "markdown",
   "id": "4572f63a",
   "metadata": {},
   "source": [
    "# Model Inference"
   ]
  },
  {
   "cell_type": "markdown",
   "id": "7cba8cdf",
   "metadata": {},
   "source": [
    "#### membuat databaru"
   ]
  },
  {
   "cell_type": "code",
   "execution_count": 81,
   "id": "db711852",
   "metadata": {},
   "outputs": [],
   "source": [
    "value_1 = [73, 2, 2 , 3, 5] \n",
    "value_2 = [148, 2, 2, 3, 1]\n",
    "value_3 = [74, 2, 2, 3, 4]"
   ]
  },
  {
   "cell_type": "code",
   "execution_count": 82,
   "id": "aa17b4f6",
   "metadata": {},
   "outputs": [],
   "source": [
    "values = [value_1, value_2, value_3]"
   ]
  },
  {
   "cell_type": "code",
   "execution_count": 83,
   "id": "06415147",
   "metadata": {},
   "outputs": [
    {
     "data": {
      "text/plain": [
       "Index(['Country', 'Overall Life', 'Male Life', 'Female Life', 'Continent'], dtype='object')"
      ]
     },
     "execution_count": 83,
     "metadata": {},
     "output_type": "execute_result"
    }
   ],
   "source": [
    "data.columns"
   ]
  },
  {
   "cell_type": "code",
   "execution_count": 84,
   "id": "0debbac9",
   "metadata": {},
   "outputs": [],
   "source": [
    "data_dummies = pd.DataFrame(values, columns=['Country', 'Overall Life', 'Male Life', 'Female Life', 'Continent'])"
   ]
  },
  {
   "cell_type": "markdown",
   "id": "7f40e459",
   "metadata": {},
   "source": [
    "#### melihat data baru"
   ]
  },
  {
   "cell_type": "code",
   "execution_count": 85,
   "id": "a069320b",
   "metadata": {},
   "outputs": [
    {
     "data": {
      "text/html": [
       "<div>\n",
       "<style scoped>\n",
       "    .dataframe tbody tr th:only-of-type {\n",
       "        vertical-align: middle;\n",
       "    }\n",
       "\n",
       "    .dataframe tbody tr th {\n",
       "        vertical-align: top;\n",
       "    }\n",
       "\n",
       "    .dataframe thead th {\n",
       "        text-align: right;\n",
       "    }\n",
       "</style>\n",
       "<table border=\"1\" class=\"dataframe\">\n",
       "  <thead>\n",
       "    <tr style=\"text-align: right;\">\n",
       "      <th></th>\n",
       "      <th>Country</th>\n",
       "      <th>Overall Life</th>\n",
       "      <th>Male Life</th>\n",
       "      <th>Female Life</th>\n",
       "      <th>Continent</th>\n",
       "    </tr>\n",
       "  </thead>\n",
       "  <tbody>\n",
       "    <tr>\n",
       "      <th>0</th>\n",
       "      <td>73</td>\n",
       "      <td>2</td>\n",
       "      <td>2</td>\n",
       "      <td>3</td>\n",
       "      <td>5</td>\n",
       "    </tr>\n",
       "    <tr>\n",
       "      <th>1</th>\n",
       "      <td>148</td>\n",
       "      <td>2</td>\n",
       "      <td>2</td>\n",
       "      <td>3</td>\n",
       "      <td>1</td>\n",
       "    </tr>\n",
       "    <tr>\n",
       "      <th>2</th>\n",
       "      <td>74</td>\n",
       "      <td>2</td>\n",
       "      <td>2</td>\n",
       "      <td>3</td>\n",
       "      <td>4</td>\n",
       "    </tr>\n",
       "  </tbody>\n",
       "</table>\n",
       "</div>"
      ],
      "text/plain": [
       "   Country  Overall Life  Male Life  Female Life  Continent\n",
       "0       73             2          2            3          5\n",
       "1      148             2          2            3          1\n",
       "2       74             2          2            3          4"
      ]
     },
     "execution_count": 85,
     "metadata": {},
     "output_type": "execute_result"
    }
   ],
   "source": [
    "data_dummies"
   ]
  },
  {
   "cell_type": "markdown",
   "id": "63360ac6",
   "metadata": {},
   "source": [
    "#### melakukan prediksi data baru dengan KMeans"
   ]
  },
  {
   "cell_type": "code",
   "execution_count": 86,
   "id": "66340600",
   "metadata": {},
   "outputs": [
    {
     "name": "stdout",
     "output_type": "stream",
     "text": [
      "Hasil prediksi model KMeans Clustering: \n",
      "\n",
      "penduduk dalam data 1 termasuk dalam cluster 0\n",
      "penduduk dalam data 2 termasuk dalam cluster 1\n",
      "penduduk dalam data 3 termasuk dalam cluster 2\n"
     ]
    }
   ],
   "source": [
    "prediction = kmeans.predict(data_dummies)\n",
    "\n",
    "print(\"Hasil prediksi model KMeans Clustering: \\n\")\n",
    "print('penduduk dalam data 1 termasuk dalam cluster {}'.format(prediction[0]))\n",
    "print('penduduk dalam data 2 termasuk dalam cluster {}'.format(prediction[1]))\n",
    "print('penduduk dalam data 3 termasuk dalam cluster {}'.format(prediction[2]))"
   ]
  },
  {
   "cell_type": "markdown",
   "id": "479c7662",
   "metadata": {},
   "source": [
    "# Model  Evaluation dan Analysis"
   ]
  },
  {
   "cell_type": "markdown",
   "id": "bb5943d5",
   "metadata": {},
   "source": [
    "#### Model  Evaluation dan Analysis dengan Model Inferent\n",
    "\n",
    "\n",
    "dari hasil mencoba data baru untuk melakukan prediksi menggunakan model clustering Kmeans dapat ditarik informasi sebagai berikut:\n",
    "\n",
    "* Dalam setiap Perubahan pada nilai features **'Country'** dan **'Continent'** akan mengakibatkan atau merubah type cluster pada model clustering KMeans"
   ]
  },
  {
   "cell_type": "markdown",
   "id": "405fd3be",
   "metadata": {},
   "source": [
    "#### interpretasi Kmeans"
   ]
  },
  {
   "cell_type": "code",
   "execution_count": 76,
   "id": "88084379",
   "metadata": {},
   "outputs": [
    {
     "data": {
      "image/png": "[encoded data removed]",
      "text/plain": [
       "<Figure size 648x216 with 3 Axes>"
      ]
     },
     "metadata": {
      "needs_background": "light"
     },
     "output_type": "display_data"
    },
    {
     "data": {
      "image/png": "[encoded data removed]",
      "text/plain": [
       "<Figure size 648x216 with 3 Axes>"
      ]
     },
     "metadata": {
      "needs_background": "light"
     },
     "output_type": "display_data"
    },
    {
     "data": {
      "image/png": "[encoded data removed]",
      "text/plain": [
       "<Figure size 648x216 with 3 Axes>"
      ]
     },
     "metadata": {
      "needs_background": "light"
     },
     "output_type": "display_data"
    },
    {
     "data": {
      "image/png": "[encoded data removed]",
      "text/plain": [
       "<Figure size 648x216 with 3 Axes>"
      ]
     },
     "metadata": {
      "needs_background": "light"
     },
     "output_type": "display_data"
    },
    {
     "data": {
      "image/png": "[encoded data removed]",
      "text/plain": [
       "<Figure size 648x216 with 3 Axes>"
      ]
     },
     "metadata": {
      "needs_background": "light"
     },
     "output_type": "display_data"
    },
    {
     "data": {
      "image/png": "[encoded data removed]",
      "text/plain": [
       "<Figure size 648x216 with 3 Axes>"
      ]
     },
     "metadata": {
      "needs_background": "light"
     },
     "output_type": "display_data"
    }
   ],
   "source": [
    "for col in dataset_kmeans:\n",
    "    grid = sns.FacetGrid(dataset_kmeans, col='Kmeans_Cluster')\n",
    "    grid.map(plt.hist, col)"
   ]
  },
  {
   "cell_type": "markdown",
   "id": "019de484",
   "metadata": {},
   "source": [
    "dari hasil clustering dapat diperoleh informasi:\n",
    "* cluster 1 adalah penduduk dengan Tingkat Expectasi Hidup kesulurahan Tinggi yang umumnya tinggal dibenua Europe (0), dimana tingkat Expectasi Hidup Wanita tinggi sedangkan tingkat Expectasi Hidup Pria cenderung sedang dan tinggi\n",
    "* cluster 2 adalah penduduk dengan Tingkat Expectasi Hidup kesulurahan Rendah yang umumnya tinggal dibenua Africa (4),dimana tingkat Expectasi Hidup Wanita rendah dan sedang sedangkan tingkat Expectasi Hidup Pria cenderung rendah\n",
    "* cluster 3 adalah penduduk dengan Tingkat Expectasi Hidup kesulurahan Sedang yang umumnya tinggal dibenua Asia (1) dan North America (3), dimana tingkat Expectasi Hidup Wanita cenderung sedan dan tinggi sedangkan tingkat Expectasi Hidup Pria cenderung sedang \n",
    "\n",
    "hasil ini sama dengan analysis Exploratory Data Analysis yaitu:\n",
    "Dari Visualisasi terlihat bahwa:\n",
    "* Negara dibenua Eropa harapan Hidup warganya (Life Expectation) lebih didominasi oleh kategori High Expectation\n",
    "* Negara dibenua Asia harapan Hidup warganya (Life Expectation) lebih didominasi oleh kategori Medium Expectation\n",
    "* Negara dibenua Ocenania harapan Hidup warganya (Life Expectation) lebih didominasi oleh kategori Medium Expectation\n",
    "* Negara dibenua North America harapan Hidup warganya (Life Expectation) lebih didominasi oleh kategori Medium Expectation\n",
    "* Negara dibenua Africa harapan Hidup warganya (Life Expectation) lebih didominasi oleh kategori Low Expectation\n",
    "* Negara dibenua South America harapan Hidup warganya (Life Expectation) lebih didominasi oleh kategori Medium Expectation"
   ]
  },
  {
   "cell_type": "markdown",
   "id": "c21a18b2",
   "metadata": {},
   "source": [
    "# Overall Analysis"
   ]
  },
  {
   "cell_type": "markdown",
   "id": "8616c34f",
   "metadata": {},
   "source": [
    "## Dataset\n",
    "\n",
    "dataset berisi mengenai ranking expetasi hidup suatu negara \n",
    "\n",
    "## sumber dataset\n",
    "\n",
    "data asli berasal dari data kaggle : https://www.kaggle.com/amansaxena/lifeexpectancy\n",
    "        \n",
    "## objective\n",
    "\n",
    "membuat cluster mengenai ranking expetasi hidup suatu negara \n",
    "\n",
    "## dimensi dataset\n",
    "data terdiri dari 223 rows dan 5 columns\n",
    "\n",
    "## Exploratory Data Analysis keseluruhan\n",
    "\n",
    "Dari hasil visualisasi didapatkan informasi sebagai berikut\n",
    "\n",
    "* Dari visualisasi terlihat bahwa dalam range Male Life Expectation dengan kategori low expetation berada pada range 0 sampai dengan 70,  kategori medium expetation berada pada range 70 sampai dengan 80, dan kategori high expetation berada diatas range 80\n",
    "* Dari Visualisasi terlihat bahwa Male Life Expectation dengan range diatas 80 mutlak dalam kategori High expectation\n",
    "* Dari visualisasi terlihat bahwa dalam range Female Life Expectation dengan kategori low expetation berada pada range 0 sampai dengan 70,  kategori medium expetation berada pada range 70 sampai dengan 80, dan kategori high expetation berada diatas range 80\n",
    "* Dari Visualisasi terlihat bahwa Female Life Expectation dengan range 0 sampai dengan 70, mutlak dalam kategori Low expectation\n",
    "* Negara dibenua Eropa harapan Hidup warganya (Life Expectation) lebih didominasi oleh kategori High Expectation\n",
    "* Negara dibenua Asia harapan Hidup warganya (Life Expectation) lebih didominasi oleh kategori Medium Expectation\n",
    "* Negara dibenua Ocenania harapan Hidup warganya (Life Expectation) lebih didominasi oleh kategori Medium Expectation\n",
    "* Negara dibenua North America harapan Hidup warganya (Life Expectation) lebih didominasi oleh kategori Medium Expectation\n",
    "* Negara dibenua Africa harapan Hidup warganya (Life Expectation) lebih didominasi oleh kategori Low Expectation\n",
    "* Negara dibenua South America harapan Hidup warganya (Life Expectation) lebih didominasi oleh kategori Medium Expectation\n",
    "\n",
    "## Metode elbow untuk menentukan angka cluster"
   ]
  },
  {
   "cell_type": "code",
   "execution_count": 79,
   "id": "9571a27c",
   "metadata": {},
   "outputs": [
    {
     "data": {
      "image/png": "[encoded data removed]",
      "text/plain": [
       "<Figure size 1080x576 with 1 Axes>"
      ]
     },
     "metadata": {
      "needs_background": "light"
     },
     "output_type": "display_data"
    }
   ],
   "source": [
    "K=[1,2,3,4,5,6,7,8,9,10]\n",
    "inertia=[KMeans(n_clusters=i).fit(X).inertia_ for i in K]\n",
    "plt.subplots(figsize=(15,8))\n",
    "plt.plot(K,inertia)\n",
    "plt.xlabel('K')\n",
    "plt.ylabel('Inertia')\n",
    "plt.show()"
   ]
  },
  {
   "cell_type": "markdown",
   "id": "23a4eda1",
   "metadata": {},
   "source": [
    "dari model elbow terlihat bahwa jumlah cluster yang baik adalah 3 cluster\n",
    "\n",
    "## Pendefinisian dan Pelatihan Model Clustering\n",
    "\n",
    "Pendefinisian dan pelatihan model clustering menggunakan model algoritma clustering yaitu Kmeans dengan menetapkan jumlah cluster sebesar 3 cluster \n",
    "\n",
    "## Model  Evaluation dan Analysis\n",
    "\n",
    "#### Analysis Model Inferent\n",
    "\n",
    "\n",
    "dari hasil mencoba data baru untuk melakukan prediksi menggunakan model clustering Kmeans dapat ditarik informasi sebagai berikut:\n",
    "\n",
    "* Dalam setiap Perubahan pada nilai features **'Country'** dan **'Continent'** akan mengakibatkan atau merubah type cluster pada model clustering KMeans\n",
    "\n",
    "#### Interpretasi Kmeans Clustering\n",
    "\n",
    "dari hasil clustering dapat diperoleh informasi:\n",
    "* cluster 1 adalah penduduk dengan Tingkat Expectasi Hidup kesulurahan Tinggi yang umumnya tinggal dibenua Europe (0), dimana tingkat Expectasi Hidup Wanita tinggi sedangkan tingkat Expectasi Hidup Pria cenderung sedang dan tinggi\n",
    "* cluster 2 adalah penduduk dengan Tingkat Expectasi Hidup kesulurahan Rendah yang umumnya tinggal dibenua Africa (4),dimana tingkat Expectasi Hidup Wanita rendah dan sedang sedangkan tingkat Expectasi Hidup Pria cenderung rendah\n",
    "* cluster 3 adalah penduduk dengan Tingkat Expectasi Hidup kesulurahan Sedang yang umumnya tinggal dibenua Asia (1) dan North America (3), dimana tingkat Expectasi Hidup Wanita cenderung sedan dan tinggi sedangkan tingkat Expectasi Hidup Pria cenderung sedang \n",
    "\n",
    "hasil Kmeans Clustering sama dengan analysis Exploratory Data Analysis yaitu:\n",
    "\n",
    "* Negara dibenua Eropa harapan Hidup warganya (Life Expectation) lebih didominasi oleh kategori High Expectation\n",
    "* Negara dibenua Asia harapan Hidup warganya (Life Expectation) lebih didominasi oleh kategori Medium Expectation\n",
    "* Negara dibenua Ocenania harapan Hidup warganya (Life Expectation) lebih didominasi oleh kategori Medium Expectation\n",
    "* Negara dibenua North America harapan Hidup warganya (Life Expectation) lebih didominasi oleh kategori Medium Expectation\n",
    "* Negara dibenua Africa harapan Hidup warganya (Life Expectation) lebih didominasi oleh kategori Low Expectation\n",
    "* Negara dibenua South America harapan Hidup warganya (Life Expectation) lebih didominasi oleh kategori Medium Expectation\n"
   ]
  },
  {
   "cell_type": "code",
   "execution_count": null,
   "id": "c6b58712",
   "metadata": {},
   "outputs": [],
   "source": []
  }
 ],
 "metadata": {
  "kernelspec": {
   "display_name": "Python 3",
   "language": "python",
   "name": "python3"
  },
  "language_info": {
   "codemirror_mode": {
    "name": "ipython",
    "version": 3
   },
   "file_extension": ".py",
   "mimetype": "text/x-python",
   "name": "python",
   "nbconvert_exporter": "python",
   "pygments_lexer": "ipython3",
   "version": "3.8.5"
  }
 },
 "nbformat": 4,
 "nbformat_minor": 5
}
